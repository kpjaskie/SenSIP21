{
  "nbformat": 4,
  "nbformat_minor": 0,
  "metadata": {
    "anaconda-cloud": {},
    "kernelspec": {
      "display_name": "Python 3",
      "language": "python",
      "name": "python3"
    },
    "language_info": {
      "codemirror_mode": {
        "name": "ipython",
        "version": 3
      },
      "file_extension": ".py",
      "mimetype": "text/x-python",
      "name": "python",
      "nbconvert_exporter": "python",
      "pygments_lexer": "ipython3",
      "version": "3.5.1"
    },
    "colab": {
      "name": "Copy of 02.02-The-Basics-Of-NumPy-Arrays.ipynb",
      "provenance": [],
      "include_colab_link": true
    }
  },
  "cells": [
    {
      "cell_type": "markdown",
      "metadata": {
        "id": "view-in-github",
        "colab_type": "text"
      },
      "source": [
        "<a href=\"https://colab.research.google.com/github/kpjaskie/SenSIP21/blob/main/The_Basics_Of_NumPy_Arrays.ipynb\" target=\"_parent\"><img src=\"https://colab.research.google.com/assets/colab-badge.svg\" alt=\"Open In Colab\"/></a>"
      ]
    },
    {
      "cell_type": "markdown",
      "metadata": {
        "id": "2gOG4f5vlsQC"
      },
      "source": [
        "<!--BOOK_INFORMATION-->\n",
        "<img align=\"left\" style=\"padding-right:10px;\" src=\"https://github.com/jakevdp/PythonDataScienceHandbook/blob/master/notebooks/figures/PDSH-cover-small.png?raw=1\">\n",
        "\n",
        "*This notebook contains an excerpt from the [Python Data Science Handbook](http://shop.oreilly.com/product/0636920034919.do) by Jake VanderPlas; the content is available [on GitHub](https://github.com/jakevdp/PythonDataScienceHandbook).*\n",
        "\n",
        "*The text is released under the [CC-BY-NC-ND license](https://creativecommons.org/licenses/by-nc-nd/3.0/us/legalcode), and code is released under the [MIT license](https://opensource.org/licenses/MIT). If you find this content useful, please consider supporting the work by [buying the book](http://shop.oreilly.com/product/0636920034919.do)!*"
      ]
    },
    {
      "cell_type": "markdown",
      "metadata": {
        "id": "9eKPh8IHlsQD"
      },
      "source": [
        "<!--NAVIGATION-->\n",
        "< [Understanding Data Types in Python](02.01-Understanding-Data-Types.ipynb) | [Contents](Index.ipynb) | [Computation on NumPy Arrays: Universal Functions](02.03-Computation-on-arrays-ufuncs.ipynb) >\n",
        "\n",
        "<a href=\"https://colab.research.google.com/github/jakevdp/PythonDataScienceHandbook/blob/master/notebooks/02.02-The-Basics-Of-NumPy-Arrays.ipynb\"><img align=\"left\" src=\"https://colab.research.google.com/assets/colab-badge.svg\" alt=\"Open in Colab\" title=\"Open and Execute in Google Colaboratory\"></a>\n"
      ]
    },
    {
      "cell_type": "markdown",
      "metadata": {
        "id": "rHF112xZlsQE"
      },
      "source": [
        "# The Basics of NumPy Arrays"
      ]
    },
    {
      "cell_type": "markdown",
      "metadata": {
        "id": "i4teA7qJlsQE"
      },
      "source": [
        "Data manipulation in Python is nearly synonymous with NumPy array manipulation: even newer tools like Pandas ([Chapter 3](03.00-Introduction-to-Pandas.ipynb)) are built around the NumPy array.\n",
        "This section will present several examples of using NumPy array manipulation to access data and subarrays, and to split, reshape, and join the arrays.\n",
        "While the types of operations shown here may seem a bit dry and pedantic, they comprise the building blocks of many other examples used throughout the book.\n",
        "Get to know them well!\n",
        "\n",
        "We'll cover a few categories of basic array manipulations here:\n",
        "\n",
        "- *Attributes of arrays*: Determining the size, shape, memory consumption, and data types of arrays\n",
        "- *Indexing of arrays*: Getting and setting the value of individual array elements\n",
        "- *Slicing of arrays*: Getting and setting smaller subarrays within a larger array\n",
        "- *Reshaping of arrays*: Changing the shape of a given array\n",
        "- *Joining and splitting of arrays*: Combining multiple arrays into one, and splitting one array into many"
      ]
    },
    {
      "cell_type": "markdown",
      "metadata": {
        "id": "0bcxpRIllsQF"
      },
      "source": [
        "## NumPy Array Attributes"
      ]
    },
    {
      "cell_type": "markdown",
      "metadata": {
        "id": "QgaLnGXElsQG"
      },
      "source": [
        "First let's discuss some useful array attributes.\n",
        "We'll start by defining three random arrays, a one-dimensional, two-dimensional, and three-dimensional array.\n",
        "We'll use NumPy's random number generator, which we will *seed* with a set value in order to ensure that the same random arrays are generated each time this code is run:"
      ]
    },
    {
      "cell_type": "code",
      "metadata": {
        "id": "lmhQHbdhlsQG"
      },
      "source": [
        "import numpy as np\n",
        "np.random.seed(0)  # seed for reproducibility\n",
        "\n",
        "x1 = np.random.randint(10, size=6)  # One-dimensional array\n",
        "x2 = np.random.randint(10, size=(3, 4))  # Two-dimensional array\n",
        "x3 = np.random.randint(10, size=(3, 4, 5))  # Three-dimensional array"
      ],
      "execution_count": null,
      "outputs": []
    },
    {
      "cell_type": "markdown",
      "metadata": {
        "id": "P7qfyuz5lsQK"
      },
      "source": [
        "Each array has attributes ``ndim`` (the number of dimensions), ``shape`` (the size of each dimension), and ``size`` (the total size of the array):"
      ]
    },
    {
      "cell_type": "code",
      "metadata": {
        "id": "WrOR4-tJlsQL",
        "outputId": "90e7f5c3-bdc8-44da-f935-699274432e50"
      },
      "source": [
        "print(\"x3 ndim: \", x3.ndim)\n",
        "print(\"x3 shape:\", x3.shape)\n",
        "print(\"x3 size: \", x3.size)"
      ],
      "execution_count": null,
      "outputs": [
        {
          "output_type": "stream",
          "text": [
            "x3 ndim:  3\n",
            "x3 shape: (3, 4, 5)\n",
            "x3 size:  60\n"
          ],
          "name": "stdout"
        }
      ]
    },
    {
      "cell_type": "markdown",
      "metadata": {
        "id": "8GEtWmgSlsQP"
      },
      "source": [
        "Another useful attribute is the ``dtype``, the data type of the array (which we discussed previously in [Understanding Data Types in Python](02.01-Understanding-Data-Types.ipynb)):"
      ]
    },
    {
      "cell_type": "code",
      "metadata": {
        "id": "F68q9DrKlsQP",
        "outputId": "aaa2f2e8-a5fb-4178-8e80-d4b386f9c5d7"
      },
      "source": [
        "print(\"dtype:\", x3.dtype)"
      ],
      "execution_count": null,
      "outputs": [
        {
          "output_type": "stream",
          "text": [
            "dtype: int64\n"
          ],
          "name": "stdout"
        }
      ]
    },
    {
      "cell_type": "markdown",
      "metadata": {
        "id": "Dy9Tr6QXlsQS"
      },
      "source": [
        "Other attributes include ``itemsize``, which lists the size (in bytes) of each array element, and ``nbytes``, which lists the total size (in bytes) of the array:"
      ]
    },
    {
      "cell_type": "code",
      "metadata": {
        "id": "Ejbqq3HJlsQT",
        "outputId": "90584239-25aa-439b-fa33-52001790bfaa"
      },
      "source": [
        "print(\"itemsize:\", x3.itemsize, \"bytes\")\n",
        "print(\"nbytes:\", x3.nbytes, \"bytes\")"
      ],
      "execution_count": null,
      "outputs": [
        {
          "output_type": "stream",
          "text": [
            "itemsize: 8 bytes\n",
            "nbytes: 480 bytes\n"
          ],
          "name": "stdout"
        }
      ]
    },
    {
      "cell_type": "markdown",
      "metadata": {
        "id": "1cki7eHMlsQW"
      },
      "source": [
        "In general, we expect that ``nbytes`` is equal to ``itemsize`` times ``size``."
      ]
    },
    {
      "cell_type": "markdown",
      "metadata": {
        "id": "UouNYevFlsQX"
      },
      "source": [
        "## Array Indexing: Accessing Single Elements"
      ]
    },
    {
      "cell_type": "markdown",
      "metadata": {
        "id": "ytlou5uhlsQY"
      },
      "source": [
        "If you are familiar with Python's standard list indexing, indexing in NumPy will feel quite familiar.\n",
        "In a one-dimensional array, the $i^{th}$ value (counting from zero) can be accessed by specifying the desired index in square brackets, just as with Python lists:"
      ]
    },
    {
      "cell_type": "code",
      "metadata": {
        "id": "cx-dh2hBlsQY",
        "outputId": "f5c0dbe3-956b-4a5e-acd8-a8e60ef5ea26"
      },
      "source": [
        "x1"
      ],
      "execution_count": null,
      "outputs": [
        {
          "output_type": "execute_result",
          "data": {
            "text/plain": [
              "array([5, 0, 3, 3, 7, 9])"
            ]
          },
          "metadata": {
            "tags": []
          },
          "execution_count": 5
        }
      ]
    },
    {
      "cell_type": "code",
      "metadata": {
        "id": "tZVkXZZ2lsQc",
        "outputId": "4c31b76f-5018-4836-821f-8997597a7d7a"
      },
      "source": [
        "x1[0]"
      ],
      "execution_count": null,
      "outputs": [
        {
          "output_type": "execute_result",
          "data": {
            "text/plain": [
              "5"
            ]
          },
          "metadata": {
            "tags": []
          },
          "execution_count": 6
        }
      ]
    },
    {
      "cell_type": "code",
      "metadata": {
        "id": "5t2ixgTelsQm",
        "outputId": "18d612bb-3f81-4451-f713-faac2f3f2fa7"
      },
      "source": [
        "x1[4]"
      ],
      "execution_count": null,
      "outputs": [
        {
          "output_type": "execute_result",
          "data": {
            "text/plain": [
              "7"
            ]
          },
          "metadata": {
            "tags": []
          },
          "execution_count": 7
        }
      ]
    },
    {
      "cell_type": "markdown",
      "metadata": {
        "id": "4WANMWotlsQt"
      },
      "source": [
        "To index from the end of the array, you can use negative indices:"
      ]
    },
    {
      "cell_type": "code",
      "metadata": {
        "id": "vazhlhVUlsQv",
        "outputId": "bbd9c049-63d5-4a2e-f56e-4822ac0bae2e"
      },
      "source": [
        "x1[-1]"
      ],
      "execution_count": null,
      "outputs": [
        {
          "output_type": "execute_result",
          "data": {
            "text/plain": [
              "9"
            ]
          },
          "metadata": {
            "tags": []
          },
          "execution_count": 8
        }
      ]
    },
    {
      "cell_type": "code",
      "metadata": {
        "id": "VSlco25glsQ1",
        "outputId": "77aa1887-fd69-4b42-fe97-b33746799950"
      },
      "source": [
        "x1[-2]"
      ],
      "execution_count": null,
      "outputs": [
        {
          "output_type": "execute_result",
          "data": {
            "text/plain": [
              "7"
            ]
          },
          "metadata": {
            "tags": []
          },
          "execution_count": 9
        }
      ]
    },
    {
      "cell_type": "markdown",
      "metadata": {
        "id": "_Iv3x4aalsQ7"
      },
      "source": [
        "In a multi-dimensional array, items can be accessed using a comma-separated tuple of indices:"
      ]
    },
    {
      "cell_type": "code",
      "metadata": {
        "id": "3NqiJkVolsQ8",
        "outputId": "2d5d6903-4e36-42ff-8f28-cd33c7ceb2a8"
      },
      "source": [
        "x2"
      ],
      "execution_count": null,
      "outputs": [
        {
          "output_type": "execute_result",
          "data": {
            "text/plain": [
              "array([[3, 5, 2, 4],\n",
              "       [7, 6, 8, 8],\n",
              "       [1, 6, 7, 7]])"
            ]
          },
          "metadata": {
            "tags": []
          },
          "execution_count": 10
        }
      ]
    },
    {
      "cell_type": "code",
      "metadata": {
        "id": "xX4R1coPlsRC",
        "outputId": "b280904d-3736-42ec-e1a9-e68c8e4601b3"
      },
      "source": [
        "x2[0, 0]"
      ],
      "execution_count": null,
      "outputs": [
        {
          "output_type": "execute_result",
          "data": {
            "text/plain": [
              "3"
            ]
          },
          "metadata": {
            "tags": []
          },
          "execution_count": 11
        }
      ]
    },
    {
      "cell_type": "code",
      "metadata": {
        "id": "Heqm8L8slsRG",
        "outputId": "4346b0d6-9945-458c-b080-f705f4b85981"
      },
      "source": [
        "x2[2, 0]"
      ],
      "execution_count": null,
      "outputs": [
        {
          "output_type": "execute_result",
          "data": {
            "text/plain": [
              "1"
            ]
          },
          "metadata": {
            "tags": []
          },
          "execution_count": 12
        }
      ]
    },
    {
      "cell_type": "code",
      "metadata": {
        "id": "TcmnmnCalsRL",
        "outputId": "167aaff1-c6cc-4411-b77f-d80d74abf5a4"
      },
      "source": [
        "x2[2, -1]"
      ],
      "execution_count": null,
      "outputs": [
        {
          "output_type": "execute_result",
          "data": {
            "text/plain": [
              "7"
            ]
          },
          "metadata": {
            "tags": []
          },
          "execution_count": 13
        }
      ]
    },
    {
      "cell_type": "markdown",
      "metadata": {
        "id": "rFrOeIiYlsRP"
      },
      "source": [
        "Values can also be modified using any of the above index notation:"
      ]
    },
    {
      "cell_type": "code",
      "metadata": {
        "id": "cR7y3jdPlsRQ",
        "outputId": "3ed11d72-d167-4970-9782-3fabbdf89012"
      },
      "source": [
        "x2[0, 0] = 12\n",
        "x2"
      ],
      "execution_count": null,
      "outputs": [
        {
          "output_type": "execute_result",
          "data": {
            "text/plain": [
              "array([[12,  5,  2,  4],\n",
              "       [ 7,  6,  8,  8],\n",
              "       [ 1,  6,  7,  7]])"
            ]
          },
          "metadata": {
            "tags": []
          },
          "execution_count": 14
        }
      ]
    },
    {
      "cell_type": "markdown",
      "metadata": {
        "id": "UyrsT6EnlsRU"
      },
      "source": [
        "Keep in mind that, unlike Python lists, NumPy arrays have a fixed type.\n",
        "This means, for example, that if you attempt to insert a floating-point value to an integer array, the value will be silently truncated. Don't be caught unaware by this behavior!"
      ]
    },
    {
      "cell_type": "code",
      "metadata": {
        "id": "3Ql13373lsRU",
        "outputId": "8cfb05ff-58a4-40b5-de6b-bde938142d48"
      },
      "source": [
        "x1[0] = 3.14159  # this will be truncated!\n",
        "x1"
      ],
      "execution_count": null,
      "outputs": [
        {
          "output_type": "execute_result",
          "data": {
            "text/plain": [
              "array([3, 0, 3, 3, 7, 9])"
            ]
          },
          "metadata": {
            "tags": []
          },
          "execution_count": 15
        }
      ]
    },
    {
      "cell_type": "markdown",
      "metadata": {
        "id": "iYMbueRWlsRY"
      },
      "source": [
        "## Array Slicing: Accessing Subarrays"
      ]
    },
    {
      "cell_type": "markdown",
      "metadata": {
        "id": "znprOPT6lsRY"
      },
      "source": [
        "Just as we can use square brackets to access individual array elements, we can also use them to access subarrays with the *slice* notation, marked by the colon (``:``) character.\n",
        "The NumPy slicing syntax follows that of the standard Python list; to access a slice of an array ``x``, use this:\n",
        "``` python\n",
        "x[start:stop:step]\n",
        "```\n",
        "If any of these are unspecified, they default to the values ``start=0``, ``stop=``*``size of dimension``*, ``step=1``.\n",
        "We'll take a look at accessing sub-arrays in one dimension and in multiple dimensions."
      ]
    },
    {
      "cell_type": "markdown",
      "metadata": {
        "id": "Gl4APa9hlsRZ"
      },
      "source": [
        "### One-dimensional subarrays"
      ]
    },
    {
      "cell_type": "code",
      "metadata": {
        "id": "cUJ_NfYFlsRa",
        "outputId": "55d0fd1d-23d4-4bae-88fd-0c5a6159ba7a"
      },
      "source": [
        "x = np.arange(10)\n",
        "x"
      ],
      "execution_count": null,
      "outputs": [
        {
          "output_type": "execute_result",
          "data": {
            "text/plain": [
              "array([0, 1, 2, 3, 4, 5, 6, 7, 8, 9])"
            ]
          },
          "metadata": {
            "tags": []
          },
          "execution_count": 16
        }
      ]
    },
    {
      "cell_type": "code",
      "metadata": {
        "id": "l34mFmbqlsRd",
        "outputId": "2249be45-1d48-489d-d6f8-661c57b3adee"
      },
      "source": [
        "x[:5]  # first five elements"
      ],
      "execution_count": null,
      "outputs": [
        {
          "output_type": "execute_result",
          "data": {
            "text/plain": [
              "array([0, 1, 2, 3, 4])"
            ]
          },
          "metadata": {
            "tags": []
          },
          "execution_count": 17
        }
      ]
    },
    {
      "cell_type": "code",
      "metadata": {
        "id": "bZmjijPslsRf",
        "outputId": "70161d47-e010-4822-db8c-49242645bc33"
      },
      "source": [
        "x[5:]  # elements after index 5"
      ],
      "execution_count": null,
      "outputs": [
        {
          "output_type": "execute_result",
          "data": {
            "text/plain": [
              "array([5, 6, 7, 8, 9])"
            ]
          },
          "metadata": {
            "tags": []
          },
          "execution_count": 18
        }
      ]
    },
    {
      "cell_type": "code",
      "metadata": {
        "id": "zoFb88BclsRi",
        "outputId": "5e08464d-6a3f-49a1-c443-9cc173746a50"
      },
      "source": [
        "x[4:7]  # middle sub-array"
      ],
      "execution_count": null,
      "outputs": [
        {
          "output_type": "execute_result",
          "data": {
            "text/plain": [
              "array([4, 5, 6])"
            ]
          },
          "metadata": {
            "tags": []
          },
          "execution_count": 19
        }
      ]
    },
    {
      "cell_type": "code",
      "metadata": {
        "id": "EpF93_czlsRl",
        "outputId": "7106ee32-29fc-46d8-cb5b-3d21aa275a39"
      },
      "source": [
        "x[::2]  # every other element"
      ],
      "execution_count": null,
      "outputs": [
        {
          "output_type": "execute_result",
          "data": {
            "text/plain": [
              "array([0, 2, 4, 6, 8])"
            ]
          },
          "metadata": {
            "tags": []
          },
          "execution_count": 20
        }
      ]
    },
    {
      "cell_type": "code",
      "metadata": {
        "id": "OxA-S71KlsRo",
        "outputId": "5f34bb96-330c-44a3-e21e-c6216f8d8a84"
      },
      "source": [
        "x[1::2]  # every other element, starting at index 1"
      ],
      "execution_count": null,
      "outputs": [
        {
          "output_type": "execute_result",
          "data": {
            "text/plain": [
              "array([1, 3, 5, 7, 9])"
            ]
          },
          "metadata": {
            "tags": []
          },
          "execution_count": 21
        }
      ]
    },
    {
      "cell_type": "markdown",
      "metadata": {
        "id": "u8jdZERdlsRr"
      },
      "source": [
        "A potentially confusing case is when the ``step`` value is negative.\n",
        "In this case, the defaults for ``start`` and ``stop`` are swapped.\n",
        "This becomes a convenient way to reverse an array:"
      ]
    },
    {
      "cell_type": "code",
      "metadata": {
        "id": "GVEl0jOJlsRr",
        "outputId": "7d69022a-00ed-40ba-b0f1-405f0419680a"
      },
      "source": [
        "x[::-1]  # all elements, reversed"
      ],
      "execution_count": null,
      "outputs": [
        {
          "output_type": "execute_result",
          "data": {
            "text/plain": [
              "array([9, 8, 7, 6, 5, 4, 3, 2, 1, 0])"
            ]
          },
          "metadata": {
            "tags": []
          },
          "execution_count": 22
        }
      ]
    },
    {
      "cell_type": "code",
      "metadata": {
        "id": "JBZf_y7WlsRt",
        "outputId": "d385d2a7-7f52-45b9-88a1-c8c06c64e7e2"
      },
      "source": [
        "x[5::-2]  # reversed every other from index 5"
      ],
      "execution_count": null,
      "outputs": [
        {
          "output_type": "execute_result",
          "data": {
            "text/plain": [
              "array([5, 3, 1])"
            ]
          },
          "metadata": {
            "tags": []
          },
          "execution_count": 23
        }
      ]
    },
    {
      "cell_type": "markdown",
      "metadata": {
        "id": "c7iQwuJvlsRw"
      },
      "source": [
        "### Multi-dimensional subarrays\n",
        "\n",
        "Multi-dimensional slices work in the same way, with multiple slices separated by commas.\n",
        "For example:"
      ]
    },
    {
      "cell_type": "code",
      "metadata": {
        "id": "Wb-k4vfnlsRw",
        "outputId": "ee9587f3-8385-449f-e16e-4f9caf2359a9"
      },
      "source": [
        "x2"
      ],
      "execution_count": null,
      "outputs": [
        {
          "output_type": "execute_result",
          "data": {
            "text/plain": [
              "array([[12,  5,  2,  4],\n",
              "       [ 7,  6,  8,  8],\n",
              "       [ 1,  6,  7,  7]])"
            ]
          },
          "metadata": {
            "tags": []
          },
          "execution_count": 24
        }
      ]
    },
    {
      "cell_type": "code",
      "metadata": {
        "id": "eQLiZKZAlsRy",
        "outputId": "25c65e2e-844b-4386-f396-24e83234fd07"
      },
      "source": [
        "x2[:2, :3]  # two rows, three columns"
      ],
      "execution_count": null,
      "outputs": [
        {
          "output_type": "execute_result",
          "data": {
            "text/plain": [
              "array([[12,  5,  2],\n",
              "       [ 7,  6,  8]])"
            ]
          },
          "metadata": {
            "tags": []
          },
          "execution_count": 25
        }
      ]
    },
    {
      "cell_type": "code",
      "metadata": {
        "id": "Y1Npx8V7lsR1",
        "outputId": "20625d2b-5ac1-489d-b0aa-bead9d5d6acd"
      },
      "source": [
        "x2[:3, ::2]  # all rows, every other column"
      ],
      "execution_count": null,
      "outputs": [
        {
          "output_type": "execute_result",
          "data": {
            "text/plain": [
              "array([[12,  2],\n",
              "       [ 7,  8],\n",
              "       [ 1,  7]])"
            ]
          },
          "metadata": {
            "tags": []
          },
          "execution_count": 26
        }
      ]
    },
    {
      "cell_type": "markdown",
      "metadata": {
        "id": "-CYkjvQJlsR4"
      },
      "source": [
        "Finally, subarray dimensions can even be reversed together:"
      ]
    },
    {
      "cell_type": "code",
      "metadata": {
        "id": "Y4N7ImtOlsR4",
        "outputId": "f4374b8f-9da9-420e-a9a5-147abaf29277"
      },
      "source": [
        "x2[::-1, ::-1]"
      ],
      "execution_count": null,
      "outputs": [
        {
          "output_type": "execute_result",
          "data": {
            "text/plain": [
              "array([[ 7,  7,  6,  1],\n",
              "       [ 8,  8,  6,  7],\n",
              "       [ 4,  2,  5, 12]])"
            ]
          },
          "metadata": {
            "tags": []
          },
          "execution_count": 27
        }
      ]
    },
    {
      "cell_type": "markdown",
      "metadata": {
        "id": "EXtKw1g0lsR9"
      },
      "source": [
        "#### Accessing array rows and columns\n",
        "\n",
        "One commonly needed routine is accessing of single rows or columns of an array.\n",
        "This can be done by combining indexing and slicing, using an empty slice marked by a single colon (``:``):"
      ]
    },
    {
      "cell_type": "code",
      "metadata": {
        "id": "y27VEBN3lsR-",
        "outputId": "a877deed-ad9f-4db4-b168-86a9dc78c635"
      },
      "source": [
        "print(x2[:, 0])  # first column of x2"
      ],
      "execution_count": null,
      "outputs": [
        {
          "output_type": "stream",
          "text": [
            "[12  7  1]\n"
          ],
          "name": "stdout"
        }
      ]
    },
    {
      "cell_type": "code",
      "metadata": {
        "id": "6kGJvCDrlsSB",
        "outputId": "b04ef19c-1fa1-497f-dc1c-fe3c9e7e7ccd"
      },
      "source": [
        "print(x2[0, :])  # first row of x2"
      ],
      "execution_count": null,
      "outputs": [
        {
          "output_type": "stream",
          "text": [
            "[12  5  2  4]\n"
          ],
          "name": "stdout"
        }
      ]
    },
    {
      "cell_type": "markdown",
      "metadata": {
        "id": "rhUwn1eIlsSD"
      },
      "source": [
        "In the case of row access, the empty slice can be omitted for a more compact syntax:"
      ]
    },
    {
      "cell_type": "code",
      "metadata": {
        "id": "ky_KdG31lsSE",
        "outputId": "9672e8df-538e-4251-8dfb-25ff7cf29c10"
      },
      "source": [
        "print(x2[0])  # equivalent to x2[0, :]"
      ],
      "execution_count": null,
      "outputs": [
        {
          "output_type": "stream",
          "text": [
            "[12  5  2  4]\n"
          ],
          "name": "stdout"
        }
      ]
    },
    {
      "cell_type": "markdown",
      "metadata": {
        "id": "dfXYiGJolsSG"
      },
      "source": [
        "### Subarrays as no-copy views\n",
        "\n",
        "One important–and extremely useful–thing to know about array slices is that they return *views* rather than *copies* of the array data.\n",
        "This is one area in which NumPy array slicing differs from Python list slicing: in lists, slices will be copies.\n",
        "Consider our two-dimensional array from before:"
      ]
    },
    {
      "cell_type": "code",
      "metadata": {
        "id": "1J-2UvNmlsSH",
        "outputId": "9335837c-e75a-4b8d-835c-73a9a2555ac9"
      },
      "source": [
        "print(x2)"
      ],
      "execution_count": null,
      "outputs": [
        {
          "output_type": "stream",
          "text": [
            "[[12  5  2  4]\n",
            " [ 7  6  8  8]\n",
            " [ 1  6  7  7]]\n"
          ],
          "name": "stdout"
        }
      ]
    },
    {
      "cell_type": "markdown",
      "metadata": {
        "id": "Ae9P-QBylsSL"
      },
      "source": [
        "Let's extract a $2 \\times 2$ subarray from this:"
      ]
    },
    {
      "cell_type": "code",
      "metadata": {
        "id": "tv8g9A6OlsSM",
        "outputId": "7d675a92-b39a-43f4-8b3e-066e93482902"
      },
      "source": [
        "x2_sub = x2[:2, :2]\n",
        "print(x2_sub)"
      ],
      "execution_count": null,
      "outputs": [
        {
          "output_type": "stream",
          "text": [
            "[[12  5]\n",
            " [ 7  6]]\n"
          ],
          "name": "stdout"
        }
      ]
    },
    {
      "cell_type": "markdown",
      "metadata": {
        "id": "ZfKk6BftlsSO"
      },
      "source": [
        "Now if we modify this subarray, we'll see that the original array is changed! Observe:"
      ]
    },
    {
      "cell_type": "code",
      "metadata": {
        "id": "z_Ve6OZ2lsSP",
        "outputId": "6ed6767f-0372-4200-e783-1fa914951c1c"
      },
      "source": [
        "x2_sub[0, 0] = 99\n",
        "print(x2_sub)"
      ],
      "execution_count": null,
      "outputs": [
        {
          "output_type": "stream",
          "text": [
            "[[99  5]\n",
            " [ 7  6]]\n"
          ],
          "name": "stdout"
        }
      ]
    },
    {
      "cell_type": "code",
      "metadata": {
        "id": "WOeQ-uCZlsSR",
        "outputId": "64f0a820-8b3f-4625-b22b-9c8583475630"
      },
      "source": [
        "print(x2)"
      ],
      "execution_count": null,
      "outputs": [
        {
          "output_type": "stream",
          "text": [
            "[[99  5  2  4]\n",
            " [ 7  6  8  8]\n",
            " [ 1  6  7  7]]\n"
          ],
          "name": "stdout"
        }
      ]
    },
    {
      "cell_type": "markdown",
      "metadata": {
        "id": "R8dwAcWrlsST"
      },
      "source": [
        "This default behavior is actually quite useful: it means that when we work with large datasets, we can access and process pieces of these datasets without the need to copy the underlying data buffer."
      ]
    },
    {
      "cell_type": "markdown",
      "metadata": {
        "id": "Y-SyXIq7lsSV"
      },
      "source": [
        "### Creating copies of arrays\n",
        "\n",
        "Despite the nice features of array views, it is sometimes useful to instead explicitly copy the data within an array or a subarray. This can be most easily done with the ``copy()`` method:"
      ]
    },
    {
      "cell_type": "code",
      "metadata": {
        "id": "77Z4D6l-lsSV",
        "outputId": "63558009-fa33-4781-9621-3fd8e6b10343"
      },
      "source": [
        "x2_sub_copy = x2[:2, :2].copy()\n",
        "print(x2_sub_copy)"
      ],
      "execution_count": null,
      "outputs": [
        {
          "output_type": "stream",
          "text": [
            "[[99  5]\n",
            " [ 7  6]]\n"
          ],
          "name": "stdout"
        }
      ]
    },
    {
      "cell_type": "markdown",
      "metadata": {
        "id": "2Kbd0hkblsSY"
      },
      "source": [
        "If we now modify this subarray, the original array is not touched:"
      ]
    },
    {
      "cell_type": "code",
      "metadata": {
        "id": "oxWCM_pWlsSY",
        "outputId": "568aab2a-70f1-45f5-a764-9a93daaa0973"
      },
      "source": [
        "x2_sub_copy[0, 0] = 42\n",
        "print(x2_sub_copy)"
      ],
      "execution_count": null,
      "outputs": [
        {
          "output_type": "stream",
          "text": [
            "[[42  5]\n",
            " [ 7  6]]\n"
          ],
          "name": "stdout"
        }
      ]
    },
    {
      "cell_type": "code",
      "metadata": {
        "id": "x9sMKqPslsSb",
        "outputId": "ec64c075-954f-49a6-93a6-2ca98823bdfe"
      },
      "source": [
        "print(x2)"
      ],
      "execution_count": null,
      "outputs": [
        {
          "output_type": "stream",
          "text": [
            "[[99  5  2  4]\n",
            " [ 7  6  8  8]\n",
            " [ 1  6  7  7]]\n"
          ],
          "name": "stdout"
        }
      ]
    },
    {
      "cell_type": "markdown",
      "metadata": {
        "id": "1Gr-bEP7lsSe"
      },
      "source": [
        "## Reshaping of Arrays\n",
        "\n",
        "Another useful type of operation is reshaping of arrays.\n",
        "The most flexible way of doing this is with the ``reshape`` method.\n",
        "For example, if you want to put the numbers 1 through 9 in a $3 \\times 3$ grid, you can do the following:"
      ]
    },
    {
      "cell_type": "code",
      "metadata": {
        "id": "fV3KTOiOlsSf",
        "outputId": "bf086760-7554-4f5c-f7d3-63d86caeb250"
      },
      "source": [
        "grid = np.arange(1, 10).reshape((3, 3))\n",
        "print(grid)"
      ],
      "execution_count": null,
      "outputs": [
        {
          "output_type": "stream",
          "text": [
            "[[1 2 3]\n",
            " [4 5 6]\n",
            " [7 8 9]]\n"
          ],
          "name": "stdout"
        }
      ]
    },
    {
      "cell_type": "markdown",
      "metadata": {
        "id": "RyECuN8ClsSh"
      },
      "source": [
        "Note that for this to work, the size of the initial array must match the size of the reshaped array. \n",
        "Where possible, the ``reshape`` method will use a no-copy view of the initial array, but with non-contiguous memory buffers this is not always the case.\n",
        "\n",
        "Another common reshaping pattern is the conversion of a one-dimensional array into a two-dimensional row or column matrix.\n",
        "This can be done with the ``reshape`` method, or more easily done by making use of the ``newaxis`` keyword within a slice operation:"
      ]
    },
    {
      "cell_type": "code",
      "metadata": {
        "id": "BJq1M7_alsSi",
        "outputId": "306175ab-785a-414c-f027-70c9d49a8328"
      },
      "source": [
        "x = np.array([1, 2, 3])\n",
        "\n",
        "# row vector via reshape\n",
        "x.reshape((1, 3))"
      ],
      "execution_count": null,
      "outputs": [
        {
          "output_type": "execute_result",
          "data": {
            "text/plain": [
              "array([[1, 2, 3]])"
            ]
          },
          "metadata": {
            "tags": []
          },
          "execution_count": 39
        }
      ]
    },
    {
      "cell_type": "code",
      "metadata": {
        "id": "3e-5llOolsSk",
        "outputId": "dd478b62-7bed-4e76-c040-5ad503b4a6e9"
      },
      "source": [
        "# row vector via newaxis\n",
        "x[np.newaxis, :]"
      ],
      "execution_count": null,
      "outputs": [
        {
          "output_type": "execute_result",
          "data": {
            "text/plain": [
              "array([[1, 2, 3]])"
            ]
          },
          "metadata": {
            "tags": []
          },
          "execution_count": 40
        }
      ]
    },
    {
      "cell_type": "code",
      "metadata": {
        "id": "DAwEsFNLlsSm",
        "outputId": "ee7f9ad3-ef09-4c58-e777-ccb2aa59fc92"
      },
      "source": [
        "# column vector via reshape\n",
        "x.reshape((3, 1))"
      ],
      "execution_count": null,
      "outputs": [
        {
          "output_type": "execute_result",
          "data": {
            "text/plain": [
              "array([[1],\n",
              "       [2],\n",
              "       [3]])"
            ]
          },
          "metadata": {
            "tags": []
          },
          "execution_count": 41
        }
      ]
    },
    {
      "cell_type": "code",
      "metadata": {
        "id": "jno0oAuUlsSo",
        "outputId": "36ec569a-f45e-4293-ecbd-048f739dea12"
      },
      "source": [
        "# column vector via newaxis\n",
        "x[:, np.newaxis]"
      ],
      "execution_count": null,
      "outputs": [
        {
          "output_type": "execute_result",
          "data": {
            "text/plain": [
              "array([[1],\n",
              "       [2],\n",
              "       [3]])"
            ]
          },
          "metadata": {
            "tags": []
          },
          "execution_count": 42
        }
      ]
    },
    {
      "cell_type": "markdown",
      "metadata": {
        "id": "VjbWuN7NlsSq"
      },
      "source": [
        "We will see this type of transformation often throughout the remainder of the book."
      ]
    },
    {
      "cell_type": "markdown",
      "metadata": {
        "id": "afkMakWQlsSq"
      },
      "source": [
        "## Array Concatenation and Splitting\n",
        "\n",
        "All of the preceding routines worked on single arrays. It's also possible to combine multiple arrays into one, and to conversely split a single array into multiple arrays. We'll take a look at those operations here."
      ]
    },
    {
      "cell_type": "markdown",
      "metadata": {
        "id": "5Pg4ZZSalsSr"
      },
      "source": [
        "### Concatenation of arrays\n",
        "\n",
        "Concatenation, or joining of two arrays in NumPy, is primarily accomplished using the routines ``np.concatenate``, ``np.vstack``, and ``np.hstack``.\n",
        "``np.concatenate`` takes a tuple or list of arrays as its first argument, as we can see here:"
      ]
    },
    {
      "cell_type": "code",
      "metadata": {
        "id": "XguXSIUHlsSr",
        "outputId": "d00cc8eb-44ae-4e04-bbde-94dda3ea4bf5"
      },
      "source": [
        "x = np.array([1, 2, 3])\n",
        "y = np.array([3, 2, 1])\n",
        "np.concatenate([x, y])"
      ],
      "execution_count": null,
      "outputs": [
        {
          "output_type": "execute_result",
          "data": {
            "text/plain": [
              "array([1, 2, 3, 3, 2, 1])"
            ]
          },
          "metadata": {
            "tags": []
          },
          "execution_count": 43
        }
      ]
    },
    {
      "cell_type": "markdown",
      "metadata": {
        "id": "rOf7QY7clsSt"
      },
      "source": [
        "You can also concatenate more than two arrays at once:"
      ]
    },
    {
      "cell_type": "code",
      "metadata": {
        "id": "G50R4StAlsSu",
        "outputId": "e001c199-f3be-46ce-ebe5-3ecac5e00dab"
      },
      "source": [
        "z = [99, 99, 99]\n",
        "print(np.concatenate([x, y, z]))"
      ],
      "execution_count": null,
      "outputs": [
        {
          "output_type": "stream",
          "text": [
            "[ 1  2  3  3  2  1 99 99 99]\n"
          ],
          "name": "stdout"
        }
      ]
    },
    {
      "cell_type": "markdown",
      "metadata": {
        "id": "_7T5gpDxlsSw"
      },
      "source": [
        "It can also be used for two-dimensional arrays:"
      ]
    },
    {
      "cell_type": "code",
      "metadata": {
        "id": "QA-kMzsIlsSw"
      },
      "source": [
        "grid = np.array([[1, 2, 3],\n",
        "                 [4, 5, 6]])"
      ],
      "execution_count": null,
      "outputs": []
    },
    {
      "cell_type": "code",
      "metadata": {
        "id": "Uh62xE85lsSz",
        "outputId": "1a2c7e7b-9ee5-4be6-d2ef-cdcfb2728eac"
      },
      "source": [
        "# concatenate along the first axis\n",
        "np.concatenate([grid, grid])"
      ],
      "execution_count": null,
      "outputs": [
        {
          "output_type": "execute_result",
          "data": {
            "text/plain": [
              "array([[1, 2, 3],\n",
              "       [4, 5, 6],\n",
              "       [1, 2, 3],\n",
              "       [4, 5, 6]])"
            ]
          },
          "metadata": {
            "tags": []
          },
          "execution_count": 46
        }
      ]
    },
    {
      "cell_type": "code",
      "metadata": {
        "id": "yYUc2haLlsS2",
        "outputId": "f3b2a545-4e1a-4b60-8e19-aee5d6e92e8f"
      },
      "source": [
        "# concatenate along the second axis (zero-indexed)\n",
        "np.concatenate([grid, grid], axis=1)"
      ],
      "execution_count": null,
      "outputs": [
        {
          "output_type": "execute_result",
          "data": {
            "text/plain": [
              "array([[1, 2, 3, 1, 2, 3],\n",
              "       [4, 5, 6, 4, 5, 6]])"
            ]
          },
          "metadata": {
            "tags": []
          },
          "execution_count": 47
        }
      ]
    },
    {
      "cell_type": "markdown",
      "metadata": {
        "id": "HvQTJ2mulsS7"
      },
      "source": [
        "For working with arrays of mixed dimensions, it can be clearer to use the ``np.vstack`` (vertical stack) and ``np.hstack`` (horizontal stack) functions:"
      ]
    },
    {
      "cell_type": "code",
      "metadata": {
        "id": "kFZaLgL7lsS7",
        "outputId": "52413447-a78e-468b-8ebb-f0c364cd6372"
      },
      "source": [
        "x = np.array([1, 2, 3])\n",
        "grid = np.array([[9, 8, 7],\n",
        "                 [6, 5, 4]])\n",
        "\n",
        "# vertically stack the arrays\n",
        "np.vstack([x, grid])"
      ],
      "execution_count": null,
      "outputs": [
        {
          "output_type": "execute_result",
          "data": {
            "text/plain": [
              "array([[1, 2, 3],\n",
              "       [9, 8, 7],\n",
              "       [6, 5, 4]])"
            ]
          },
          "metadata": {
            "tags": []
          },
          "execution_count": 48
        }
      ]
    },
    {
      "cell_type": "code",
      "metadata": {
        "id": "bnR-sVaklsTB",
        "outputId": "422b7894-530e-4cc8-802f-883be30705c6"
      },
      "source": [
        "# horizontally stack the arrays\n",
        "y = np.array([[99],\n",
        "              [99]])\n",
        "np.hstack([grid, y])"
      ],
      "execution_count": null,
      "outputs": [
        {
          "output_type": "execute_result",
          "data": {
            "text/plain": [
              "array([[ 9,  8,  7, 99],\n",
              "       [ 6,  5,  4, 99]])"
            ]
          },
          "metadata": {
            "tags": []
          },
          "execution_count": 49
        }
      ]
    },
    {
      "cell_type": "markdown",
      "metadata": {
        "id": "peogs-8RlsTD"
      },
      "source": [
        "Similary, ``np.dstack`` will stack arrays along the third axis."
      ]
    },
    {
      "cell_type": "markdown",
      "metadata": {
        "id": "iqxHV1HLlsTD"
      },
      "source": [
        "### Splitting of arrays\n",
        "\n",
        "The opposite of concatenation is splitting, which is implemented by the functions ``np.split``, ``np.hsplit``, and ``np.vsplit``.  For each of these, we can pass a list of indices giving the split points:"
      ]
    },
    {
      "cell_type": "code",
      "metadata": {
        "id": "pjkwRU8plsTE",
        "outputId": "709cd123-955b-41f7-e36d-1ddd6ce48f83"
      },
      "source": [
        "x = [1, 2, 3, 99, 99, 3, 2, 1]\n",
        "x1, x2, x3 = np.split(x, [3, 5])\n",
        "print(x1, x2, x3)"
      ],
      "execution_count": null,
      "outputs": [
        {
          "output_type": "stream",
          "text": [
            "[1 2 3] [99 99] [3 2 1]\n"
          ],
          "name": "stdout"
        }
      ]
    },
    {
      "cell_type": "markdown",
      "metadata": {
        "id": "CI4QG4a7lsTG"
      },
      "source": [
        "Notice that *N* split-points, leads to *N + 1* subarrays.\n",
        "The related functions ``np.hsplit`` and ``np.vsplit`` are similar:"
      ]
    },
    {
      "cell_type": "code",
      "metadata": {
        "id": "kmUgx-IElsTH",
        "outputId": "e711067f-0d86-47ec-9c5c-fd0d086a7975"
      },
      "source": [
        "grid = np.arange(16).reshape((4, 4))\n",
        "grid"
      ],
      "execution_count": null,
      "outputs": [
        {
          "output_type": "execute_result",
          "data": {
            "text/plain": [
              "array([[ 0,  1,  2,  3],\n",
              "       [ 4,  5,  6,  7],\n",
              "       [ 8,  9, 10, 11],\n",
              "       [12, 13, 14, 15]])"
            ]
          },
          "metadata": {
            "tags": []
          },
          "execution_count": 51
        }
      ]
    },
    {
      "cell_type": "code",
      "metadata": {
        "id": "eBpOCcVAlsTL",
        "outputId": "bdd9e4db-a43e-4b7f-9502-854cd860778c"
      },
      "source": [
        "upper, lower = np.vsplit(grid, [2])\n",
        "print(upper)\n",
        "print(lower)"
      ],
      "execution_count": null,
      "outputs": [
        {
          "output_type": "stream",
          "text": [
            "[[0 1 2 3]\n",
            " [4 5 6 7]]\n",
            "[[ 8  9 10 11]\n",
            " [12 13 14 15]]\n"
          ],
          "name": "stdout"
        }
      ]
    },
    {
      "cell_type": "code",
      "metadata": {
        "id": "zYzZjzCblsTR",
        "outputId": "023b2872-d39b-4423-a590-3c7b8f566dab"
      },
      "source": [
        "left, right = np.hsplit(grid, [2])\n",
        "print(left)\n",
        "print(right)"
      ],
      "execution_count": null,
      "outputs": [
        {
          "output_type": "stream",
          "text": [
            "[[ 0  1]\n",
            " [ 4  5]\n",
            " [ 8  9]\n",
            " [12 13]]\n",
            "[[ 2  3]\n",
            " [ 6  7]\n",
            " [10 11]\n",
            " [14 15]]\n"
          ],
          "name": "stdout"
        }
      ]
    },
    {
      "cell_type": "markdown",
      "metadata": {
        "id": "xRsTMMkPlsTU"
      },
      "source": [
        "Similarly, ``np.dsplit`` will split arrays along the third axis."
      ]
    },
    {
      "cell_type": "markdown",
      "metadata": {
        "id": "c2dl4sa_lsTV"
      },
      "source": [
        "<!--NAVIGATION-->\n",
        "< [Understanding Data Types in Python](02.01-Understanding-Data-Types.ipynb) | [Contents](Index.ipynb) | [Computation on NumPy Arrays: Universal Functions](02.03-Computation-on-arrays-ufuncs.ipynb) >\n",
        "\n",
        "<a href=\"https://colab.research.google.com/github/jakevdp/PythonDataScienceHandbook/blob/master/notebooks/02.02-The-Basics-Of-NumPy-Arrays.ipynb\"><img align=\"left\" src=\"https://colab.research.google.com/assets/colab-badge.svg\" alt=\"Open in Colab\" title=\"Open and Execute in Google Colaboratory\"></a>\n"
      ]
    }
  ]
}